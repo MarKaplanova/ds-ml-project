{
 "cells": [
  {
   "cell_type": "code",
   "execution_count": 184,
   "metadata": {},
   "outputs": [],
   "source": [
    "import pandas as pd\n",
    "import numpy as np\n",
    "import matplotlib.pyplot as plt\n",
    "import seaborn as sns\n",
    "\n",
    "# data prep\n",
    "import missingno as msno\n",
    "from sklearn.model_selection import train_test_split\n",
    "\n",
    "# modelling\n",
    "from sklearn.linear_model import LinearRegression\n",
    "from sklearn.metrics import r2_score, mean_squared_error\n",
    "\n",
    "RSEED = 394"
   ]
  },
  {
   "cell_type": "code",
   "execution_count": 4,
   "metadata": {},
   "outputs": [],
   "source": [
    "df_train = pd.read_csv('data/train.csv')\n",
    "df_test = pd.read_csv('data/test.csv')"
   ]
  },
  {
   "cell_type": "markdown",
   "metadata": {},
   "source": [
    "## Size of data"
   ]
  },
  {
   "cell_type": "code",
   "execution_count": 10,
   "metadata": {},
   "outputs": [
    {
     "data": {
      "text/plain": [
       "(30557, 82)"
      ]
     },
     "execution_count": 10,
     "metadata": {},
     "output_type": "execute_result"
    }
   ],
   "source": [
    "df_train.shape"
   ]
  },
  {
   "cell_type": "code",
   "execution_count": 7,
   "metadata": {},
   "outputs": [
    {
     "data": {
      "text/plain": [
       "(16136, 77)"
      ]
     },
     "execution_count": 7,
     "metadata": {},
     "output_type": "execute_result"
    }
   ],
   "source": [
    "df_test.shape"
   ]
  },
  {
   "cell_type": "markdown",
   "metadata": {},
   "source": [
    "## Which columns differ? "
   ]
  },
  {
   "cell_type": "code",
   "execution_count": 13,
   "metadata": {},
   "outputs": [
    {
     "data": {
      "text/plain": [
       "['target', 'target_min', 'target_max', 'target_variance', 'target_count']"
      ]
     },
     "execution_count": 13,
     "metadata": {},
     "output_type": "execute_result"
    }
   ],
   "source": [
    "diff_cols = [col for col in df_train.columns if col not in df_test.columns]\n",
    "diff_cols"
   ]
  },
  {
   "cell_type": "markdown",
   "metadata": {},
   "source": [
    "## What are pollution-related and not pollution-related column? "
   ]
  },
  {
   "cell_type": "code",
   "execution_count": 62,
   "metadata": {},
   "outputs": [
    {
     "data": {
      "text/plain": [
       "['L3_NO2_NO2_column_number_density',\n",
       " 'L3_NO2_NO2_slant_column_number_density',\n",
       " 'L3_NO2_absorbing_aerosol_index',\n",
       " 'L3_NO2_cloud_fraction',\n",
       " 'L3_NO2_sensor_altitude',\n",
       " 'L3_NO2_sensor_azimuth_angle',\n",
       " 'L3_NO2_sensor_zenith_angle',\n",
       " 'L3_NO2_solar_azimuth_angle',\n",
       " 'L3_NO2_solar_zenith_angle',\n",
       " 'L3_NO2_stratospheric_NO2_column_number_density',\n",
       " 'L3_NO2_tropopause_pressure',\n",
       " 'L3_NO2_tropospheric_NO2_column_number_density',\n",
       " 'L3_O3_O3_column_number_density',\n",
       " 'L3_O3_O3_effective_temperature',\n",
       " 'L3_O3_cloud_fraction',\n",
       " 'L3_O3_sensor_azimuth_angle',\n",
       " 'L3_O3_sensor_zenith_angle',\n",
       " 'L3_O3_solar_azimuth_angle',\n",
       " 'L3_O3_solar_zenith_angle',\n",
       " 'L3_CO_CO_column_number_density',\n",
       " 'L3_CO_H2O_column_number_density',\n",
       " 'L3_CO_cloud_height',\n",
       " 'L3_CO_sensor_altitude',\n",
       " 'L3_CO_sensor_azimuth_angle',\n",
       " 'L3_CO_sensor_zenith_angle',\n",
       " 'L3_CO_solar_azimuth_angle',\n",
       " 'L3_CO_solar_zenith_angle',\n",
       " 'L3_HCHO_HCHO_slant_column_number_density',\n",
       " 'L3_HCHO_cloud_fraction',\n",
       " 'L3_HCHO_sensor_azimuth_angle',\n",
       " 'L3_HCHO_sensor_zenith_angle',\n",
       " 'L3_HCHO_solar_azimuth_angle',\n",
       " 'L3_HCHO_solar_zenith_angle',\n",
       " 'L3_HCHO_tropospheric_HCHO_column_number_density',\n",
       " 'L3_HCHO_tropospheric_HCHO_column_number_density_amf',\n",
       " 'L3_CLOUD_cloud_base_height',\n",
       " 'L3_CLOUD_cloud_base_pressure',\n",
       " 'L3_CLOUD_cloud_fraction',\n",
       " 'L3_CLOUD_cloud_optical_depth',\n",
       " 'L3_CLOUD_cloud_top_height',\n",
       " 'L3_CLOUD_cloud_top_pressure',\n",
       " 'L3_CLOUD_sensor_azimuth_angle',\n",
       " 'L3_CLOUD_sensor_zenith_angle',\n",
       " 'L3_CLOUD_solar_azimuth_angle',\n",
       " 'L3_CLOUD_solar_zenith_angle',\n",
       " 'L3_CLOUD_surface_albedo',\n",
       " 'L3_AER_AI_absorbing_aerosol_index',\n",
       " 'L3_AER_AI_sensor_altitude',\n",
       " 'L3_AER_AI_sensor_azimuth_angle',\n",
       " 'L3_AER_AI_sensor_zenith_angle',\n",
       " 'L3_AER_AI_solar_azimuth_angle',\n",
       " 'L3_AER_AI_solar_zenith_angle',\n",
       " 'L3_SO2_SO2_column_number_density',\n",
       " 'L3_SO2_SO2_column_number_density_amf',\n",
       " 'L3_SO2_SO2_slant_column_number_density',\n",
       " 'L3_SO2_absorbing_aerosol_index',\n",
       " 'L3_SO2_cloud_fraction',\n",
       " 'L3_SO2_sensor_azimuth_angle',\n",
       " 'L3_SO2_sensor_zenith_angle',\n",
       " 'L3_SO2_solar_azimuth_angle',\n",
       " 'L3_SO2_solar_zenith_angle',\n",
       " 'L3_CH4_CH4_column_volume_mixing_ratio_dry_air',\n",
       " 'L3_CH4_aerosol_height',\n",
       " 'L3_CH4_aerosol_optical_depth',\n",
       " 'L3_CH4_sensor_azimuth_angle',\n",
       " 'L3_CH4_sensor_zenith_angle',\n",
       " 'L3_CH4_solar_azimuth_angle',\n",
       " 'L3_CH4_solar_zenith_angle']"
      ]
     },
     "execution_count": 62,
     "metadata": {},
     "output_type": "execute_result"
    }
   ],
   "source": [
    "poll_cols = [col for col in df_train.columns if col.find('L3') != -1]\n",
    "len(poll_cols)\n",
    "\n",
    "other_colls = [col for col in df_train.columns if col.find('L3') == -1]\n",
    "other_colls\n",
    "poll_cols\n"
   ]
  },
  {
   "cell_type": "code",
   "execution_count": null,
   "metadata": {},
   "outputs": [],
   "source": []
  },
  {
   "cell_type": "markdown",
   "metadata": {},
   "source": [
    "## What are different target variables? "
   ]
  },
  {
   "cell_type": "code",
   "execution_count": 34,
   "metadata": {},
   "outputs": [
    {
     "data": {
      "text/html": [
       "<div>\n",
       "<style scoped>\n",
       "    .dataframe tbody tr th:only-of-type {\n",
       "        vertical-align: middle;\n",
       "    }\n",
       "\n",
       "    .dataframe tbody tr th {\n",
       "        vertical-align: top;\n",
       "    }\n",
       "\n",
       "    .dataframe thead th {\n",
       "        text-align: right;\n",
       "    }\n",
       "</style>\n",
       "<table border=\"1\" class=\"dataframe\">\n",
       "  <thead>\n",
       "    <tr style=\"text-align: right;\">\n",
       "      <th></th>\n",
       "      <th>target</th>\n",
       "      <th>target_min</th>\n",
       "      <th>target_max</th>\n",
       "      <th>target_variance</th>\n",
       "      <th>target_count</th>\n",
       "    </tr>\n",
       "  </thead>\n",
       "  <tbody>\n",
       "    <tr>\n",
       "      <th>0</th>\n",
       "      <td>38.0</td>\n",
       "      <td>23.0</td>\n",
       "      <td>53.0</td>\n",
       "      <td>769.50</td>\n",
       "      <td>92</td>\n",
       "    </tr>\n",
       "    <tr>\n",
       "      <th>1</th>\n",
       "      <td>39.0</td>\n",
       "      <td>25.0</td>\n",
       "      <td>63.0</td>\n",
       "      <td>1319.85</td>\n",
       "      <td>91</td>\n",
       "    </tr>\n",
       "    <tr>\n",
       "      <th>2</th>\n",
       "      <td>24.0</td>\n",
       "      <td>8.0</td>\n",
       "      <td>56.0</td>\n",
       "      <td>1181.96</td>\n",
       "      <td>96</td>\n",
       "    </tr>\n",
       "    <tr>\n",
       "      <th>3</th>\n",
       "      <td>49.0</td>\n",
       "      <td>10.0</td>\n",
       "      <td>55.0</td>\n",
       "      <td>1113.67</td>\n",
       "      <td>96</td>\n",
       "    </tr>\n",
       "    <tr>\n",
       "      <th>4</th>\n",
       "      <td>21.0</td>\n",
       "      <td>9.0</td>\n",
       "      <td>52.0</td>\n",
       "      <td>1164.82</td>\n",
       "      <td>95</td>\n",
       "    </tr>\n",
       "  </tbody>\n",
       "</table>\n",
       "</div>"
      ],
      "text/plain": [
       "   target  target_min  target_max  target_variance  target_count\n",
       "0    38.0        23.0        53.0           769.50            92\n",
       "1    39.0        25.0        63.0          1319.85            91\n",
       "2    24.0         8.0        56.0          1181.96            96\n",
       "3    49.0        10.0        55.0          1113.67            96\n",
       "4    21.0         9.0        52.0          1164.82            95"
      ]
     },
     "execution_count": 34,
     "metadata": {},
     "output_type": "execute_result"
    }
   ],
   "source": [
    "target_names = [col for col in df_train.columns if col.find('target') != -1]\n",
    "target_names\n",
    "\n",
    "target = df_train[target_names]\n",
    "target.head()"
   ]
  },
  {
   "cell_type": "code",
   "execution_count": 41,
   "metadata": {},
   "outputs": [
    {
     "data": {
      "text/plain": [
       "['Place_ID X Date', 'Date', 'Place_ID']"
      ]
     },
     "execution_count": 41,
     "metadata": {},
     "output_type": "execute_result"
    }
   ],
   "source": [
    "loc_names = [col for col in df_train.columns if col.find('Place') != -1 or col.find('Date') != -1]\n",
    "loc_names"
   ]
  },
  {
   "cell_type": "markdown",
   "metadata": {},
   "source": [
    "## How many places and dates? "
   ]
  },
  {
   "cell_type": "code",
   "execution_count": 75,
   "metadata": {},
   "outputs": [
    {
     "data": {
      "text/plain": [
       "94"
      ]
     },
     "execution_count": 75,
     "metadata": {},
     "output_type": "execute_result"
    }
   ],
   "source": [
    "df_train.Date.unique()\n",
    "df_train.Date.nunique()"
   ]
  },
  {
   "cell_type": "code",
   "execution_count": 68,
   "metadata": {},
   "outputs": [
    {
     "data": {
      "text/plain": [
       "340"
      ]
     },
     "execution_count": 68,
     "metadata": {},
     "output_type": "execute_result"
    }
   ],
   "source": [
    "df_train.Place_ID.unique()\n",
    "df_train.Place_ID.nunique()"
   ]
  },
  {
   "cell_type": "code",
   "execution_count": 69,
   "metadata": {},
   "outputs": [
    {
     "data": {
      "text/plain": [
       "31960"
      ]
     },
     "execution_count": 69,
     "metadata": {},
     "output_type": "execute_result"
    }
   ],
   "source": [
    "94*340"
   ]
  },
  {
   "cell_type": "code",
   "execution_count": 73,
   "metadata": {},
   "outputs": [
    {
     "data": {
      "text/plain": [
       "array([94, 90, 65, 92, 91, 93, 79, 82, 74, 49, 88, 80, 69, 73, 84,  3, 12,\n",
       "       71, 68, 85, 89, 76, 41,  7, 86, 62, 29, 42, 48, 57, 70, 78])"
      ]
     },
     "execution_count": 73,
     "metadata": {},
     "output_type": "execute_result"
    }
   ],
   "source": [
    "df_train.groupby('Place_ID').Place_ID.count().unique()"
   ]
  },
  {
   "cell_type": "code",
   "execution_count": 70,
   "metadata": {},
   "outputs": [
    {
     "data": {
      "text/plain": [
       "30557"
      ]
     },
     "execution_count": 70,
     "metadata": {},
     "output_type": "execute_result"
    }
   ],
   "source": [
    "len(df_train)"
   ]
  },
  {
   "cell_type": "markdown",
   "metadata": {},
   "source": [
    "## Split train and test"
   ]
  },
  {
   "cell_type": "code",
   "execution_count": 168,
   "metadata": {},
   "outputs": [
    {
     "name": "stdout",
     "output_type": "stream",
     "text": [
      "Train Set Shape: (24533, 77)\n",
      "Test Set Shape: (6024, 77)\n",
      "Split percentage: 80.286 %\n"
     ]
    }
   ],
   "source": [
    "df = df_train.copy()\n",
    "\n",
    "y = df[['target', 'Place_ID']]\n",
    "X = df.drop(target_names, axis = 1)\n",
    "\n",
    "loc = df[loc_names]\n",
    "\n",
    "# X_train, X_test, y_train, y_test = train_test_split(X, y, random_state=RSEED)\n",
    "\n",
    "# define train and test, such that each city is in either or\n",
    "\n",
    "# unique list of places\n",
    "places = X.Place_ID.unique()\n",
    "places\n",
    "\n",
    "# split the cities into train and test\n",
    "places_train, places_test = train_test_split(places, test_size=0.2, random_state=RSEED)\n",
    "\n",
    "# filter the dataset for train and test cities\n",
    "X_train = X[X['Place_ID'].isin(places_train)]\n",
    "X_test = X[X['Place_ID'].isin(places_test)]\n",
    "\n",
    "y_train = y[y['Place_ID'].isin(places_train)].drop('Place_ID', axis = 1)\n",
    "y_test = y[y['Place_ID'].isin(places_test)].drop('Place_ID', axis = 1)\n",
    "\n",
    "# display the shapes of train and test sets\n",
    "print(\"Train Set Shape:\", X_train.shape)\n",
    "print(\"Test Set Shape:\", X_test.shape)\n",
    "print(\"Split percentage:\", round(X_train.shape[0]/len(X)*100, 4), \"%\")"
   ]
  },
  {
   "cell_type": "code",
   "execution_count": 163,
   "metadata": {},
   "outputs": [
    {
     "data": {
      "text/plain": [
       "count    22917.000000\n",
       "mean        61.259153\n",
       "std         47.183499\n",
       "min          1.000000\n",
       "25%         25.000000\n",
       "50%         50.000000\n",
       "75%         80.000000\n",
       "max        815.000000\n",
       "Name: target, dtype: float64"
      ]
     },
     "execution_count": 163,
     "metadata": {},
     "output_type": "execute_result"
    }
   ],
   "source": [
    "y_train.describe()"
   ]
  },
  {
   "cell_type": "markdown",
   "metadata": {},
   "source": [
    "## Missing value inspection"
   ]
  },
  {
   "cell_type": "code",
   "execution_count": 111,
   "metadata": {},
   "outputs": [
    {
     "data": {
      "text/plain": [
       "Place_ID X Date                             0\n",
       "Date                                        0\n",
       "Place_ID                                    0\n",
       "precipitable_water_entire_atmosphere        0\n",
       "relative_humidity_2m_above_ground           0\n",
       "                                        ...  \n",
       "L3_CH4_aerosol_optical_depth            18570\n",
       "L3_CH4_sensor_azimuth_angle             18570\n",
       "L3_CH4_sensor_zenith_angle              18570\n",
       "L3_CH4_solar_azimuth_angle              18570\n",
       "L3_CH4_solar_zenith_angle               18570\n",
       "Length: 77, dtype: int64"
      ]
     },
     "execution_count": 111,
     "metadata": {},
     "output_type": "execute_result"
    }
   ],
   "source": [
    "X_train.isnull().sum()"
   ]
  },
  {
   "cell_type": "code",
   "execution_count": 112,
   "metadata": {},
   "outputs": [
    {
     "data": {
      "text/plain": [
       "<Axes: >"
      ]
     },
     "execution_count": 112,
     "metadata": {},
     "output_type": "execute_result"
    },
    {
     "data": {
      "image/png": "[encoded data removed]",
      "text/plain": [
       "<Figure size 2500x1000 with 2 Axes>"
      ]
     },
     "metadata": {},
     "output_type": "display_data"
    }
   ],
   "source": [
    "msno.matrix(X_train)"
   ]
  },
  {
   "cell_type": "code",
   "execution_count": 236,
   "metadata": {},
   "outputs": [],
   "source": [
    "# msno.bar(X_train)"
   ]
  },
  {
   "cell_type": "code",
   "execution_count": 114,
   "metadata": {},
   "outputs": [
    {
     "data": {
      "text/plain": [
       "['Place_ID X Date',\n",
       " 'Date',\n",
       " 'Place_ID',\n",
       " 'precipitable_water_entire_atmosphere',\n",
       " 'relative_humidity_2m_above_ground',\n",
       " 'specific_humidity_2m_above_ground',\n",
       " 'temperature_2m_above_ground',\n",
       " 'u_component_of_wind_10m_above_ground',\n",
       " 'v_component_of_wind_10m_above_ground']"
      ]
     },
     "execution_count": 114,
     "metadata": {},
     "output_type": "execute_result"
    }
   ],
   "source": [
    "weather_cols = [col for col in X if col.find('L3') == -1]\n",
    "weather_cols"
   ]
  },
  {
   "cell_type": "code",
   "execution_count": 115,
   "metadata": {},
   "outputs": [
    {
     "data": {
      "text/plain": [
       "['CO', 'HCHO', 'AER_AI', 'CLOUD', 'NO2', 'O3', 'CH4', 'SO2']"
      ]
     },
     "execution_count": 115,
     "metadata": {},
     "output_type": "execute_result"
    }
   ],
   "source": [
    "# list_of_pollutants = [NO2, CH4, ....]\n",
    "\n",
    "pollutants = list(set([pol.split('_')[1] for pol in X.columns if pol not in weather_cols and pol not in loc_names]))\n",
    "pollutants = [pol + \"_AI\" if pol == \"AER\" else pol for pol in pollutants]\n",
    "\n",
    "pollutants"
   ]
  },
  {
   "cell_type": "code",
   "execution_count": 235,
   "metadata": {},
   "outputs": [],
   "source": [
    "CH4_cols = [col for col in X.columns if col.find('CH4') != -1]\n",
    "# msno.matrix(X[CH4_cols])"
   ]
  },
  {
   "cell_type": "code",
   "execution_count": 130,
   "metadata": {},
   "outputs": [],
   "source": [
    "rep_list = ['L3_' + pol + '_solar_zenith_angle' for pol in pollutants]\n",
    "rep_list\n",
    "date = ['Date']"
   ]
  },
  {
   "cell_type": "code",
   "execution_count": 145,
   "metadata": {},
   "outputs": [
    {
     "data": {
      "text/html": [
       "<div>\n",
       "<style scoped>\n",
       "    .dataframe tbody tr th:only-of-type {\n",
       "        vertical-align: middle;\n",
       "    }\n",
       "\n",
       "    .dataframe tbody tr th {\n",
       "        vertical-align: top;\n",
       "    }\n",
       "\n",
       "    .dataframe thead th {\n",
       "        text-align: right;\n",
       "    }\n",
       "</style>\n",
       "<table border=\"1\" class=\"dataframe\">\n",
       "  <thead>\n",
       "    <tr style=\"text-align: right;\">\n",
       "      <th></th>\n",
       "      <th>L3_CO_solar_zenith_angle</th>\n",
       "      <th>L3_HCHO_solar_zenith_angle</th>\n",
       "      <th>L3_AER_AI_solar_zenith_angle</th>\n",
       "      <th>L3_CLOUD_solar_zenith_angle</th>\n",
       "      <th>L3_NO2_solar_zenith_angle</th>\n",
       "      <th>L3_O3_solar_zenith_angle</th>\n",
       "      <th>L3_CH4_solar_zenith_angle</th>\n",
       "      <th>L3_SO2_solar_zenith_angle</th>\n",
       "      <th>Date</th>\n",
       "    </tr>\n",
       "    <tr>\n",
       "      <th>Place_ID</th>\n",
       "      <th></th>\n",
       "      <th></th>\n",
       "      <th></th>\n",
       "      <th></th>\n",
       "      <th></th>\n",
       "      <th></th>\n",
       "      <th></th>\n",
       "      <th></th>\n",
       "      <th></th>\n",
       "    </tr>\n",
       "  </thead>\n",
       "  <tbody>\n",
       "    <tr>\n",
       "      <th>5IUK9TG</th>\n",
       "      <td>3</td>\n",
       "      <td>1</td>\n",
       "      <td>3</td>\n",
       "      <td>3</td>\n",
       "      <td>1</td>\n",
       "      <td>3</td>\n",
       "      <td>0</td>\n",
       "      <td>0</td>\n",
       "      <td>3</td>\n",
       "    </tr>\n",
       "    <tr>\n",
       "      <th>WY9VXCA</th>\n",
       "      <td>51</td>\n",
       "      <td>55</td>\n",
       "      <td>56</td>\n",
       "      <td>56</td>\n",
       "      <td>57</td>\n",
       "      <td>56</td>\n",
       "      <td>1</td>\n",
       "      <td>55</td>\n",
       "      <td>57</td>\n",
       "    </tr>\n",
       "    <tr>\n",
       "      <th>MJSB8K5</th>\n",
       "      <td>5</td>\n",
       "      <td>5</td>\n",
       "      <td>6</td>\n",
       "      <td>6</td>\n",
       "      <td>7</td>\n",
       "      <td>6</td>\n",
       "      <td>1</td>\n",
       "      <td>5</td>\n",
       "      <td>7</td>\n",
       "    </tr>\n",
       "    <tr>\n",
       "      <th>S91MBTB</th>\n",
       "      <td>17</td>\n",
       "      <td>14</td>\n",
       "      <td>28</td>\n",
       "      <td>28</td>\n",
       "      <td>28</td>\n",
       "      <td>29</td>\n",
       "      <td>1</td>\n",
       "      <td>17</td>\n",
       "      <td>29</td>\n",
       "    </tr>\n",
       "    <tr>\n",
       "      <th>SX68COZ</th>\n",
       "      <td>76</td>\n",
       "      <td>65</td>\n",
       "      <td>80</td>\n",
       "      <td>80</td>\n",
       "      <td>80</td>\n",
       "      <td>80</td>\n",
       "      <td>2</td>\n",
       "      <td>66</td>\n",
       "      <td>80</td>\n",
       "    </tr>\n",
       "  </tbody>\n",
       "</table>\n",
       "</div>"
      ],
      "text/plain": [
       "          L3_CO_solar_zenith_angle  L3_HCHO_solar_zenith_angle   \n",
       "Place_ID                                                         \n",
       "5IUK9TG                          3                           1  \\\n",
       "WY9VXCA                         51                          55   \n",
       "MJSB8K5                          5                           5   \n",
       "S91MBTB                         17                          14   \n",
       "SX68COZ                         76                          65   \n",
       "\n",
       "          L3_AER_AI_solar_zenith_angle  L3_CLOUD_solar_zenith_angle   \n",
       "Place_ID                                                              \n",
       "5IUK9TG                              3                            3  \\\n",
       "WY9VXCA                             56                           56   \n",
       "MJSB8K5                              6                            6   \n",
       "S91MBTB                             28                           28   \n",
       "SX68COZ                             80                           80   \n",
       "\n",
       "          L3_NO2_solar_zenith_angle  L3_O3_solar_zenith_angle   \n",
       "Place_ID                                                        \n",
       "5IUK9TG                           1                         3  \\\n",
       "WY9VXCA                          57                        56   \n",
       "MJSB8K5                           7                         6   \n",
       "S91MBTB                          28                        29   \n",
       "SX68COZ                          80                        80   \n",
       "\n",
       "          L3_CH4_solar_zenith_angle  L3_SO2_solar_zenith_angle  Date  \n",
       "Place_ID                                                              \n",
       "5IUK9TG                           0                          0     3  \n",
       "WY9VXCA                           1                         55    57  \n",
       "MJSB8K5                           1                          5     7  \n",
       "S91MBTB                           1                         17    29  \n",
       "SX68COZ                           2                         66    80  "
      ]
     },
     "execution_count": 145,
     "metadata": {},
     "output_type": "execute_result"
    }
   ],
   "source": [
    "counts_missing = X.groupby('Place_ID')[rep_list + date].count().sort_values('L3_CH4_solar_zenith_angle')\n",
    "\n",
    "counts_missing.head(5)"
   ]
  },
  {
   "cell_type": "markdown",
   "metadata": {},
   "source": [
    "## Baseline model\n",
    "\n",
    "- hypothesis: there is less PM2.5 in the atmosphere when it is windy\n",
    "- method: OLS\n",
    "\n",
    "- model\n",
    "$$ y = b_0 + b_1 * x_1 + \\epsilon $$\n",
    "\n",
    "- estimated model\n",
    "$$ PM_{2.5} = \\hat{b}_0 + \\hat{b}_1 * wind $$\n"
   ]
  },
  {
   "cell_type": "code",
   "execution_count": 176,
   "metadata": {},
   "outputs": [
    {
     "data": {
      "text/plain": [
       "['Place_ID X Date',\n",
       " 'Date',\n",
       " 'Place_ID',\n",
       " 'precipitable_water_entire_atmosphere',\n",
       " 'relative_humidity_2m_above_ground',\n",
       " 'specific_humidity_2m_above_ground',\n",
       " 'temperature_2m_above_ground',\n",
       " 'u_component_of_wind_10m_above_ground',\n",
       " 'v_component_of_wind_10m_above_ground']"
      ]
     },
     "execution_count": 176,
     "metadata": {},
     "output_type": "execute_result"
    }
   ],
   "source": [
    "weather_cols"
   ]
  },
  {
   "cell_type": "code",
   "execution_count": 226,
   "metadata": {},
   "outputs": [
    {
     "name": "stdout",
     "output_type": "stream",
     "text": [
      "0.005368992639439574\n"
     ]
    },
    {
     "data": {
      "text/plain": [
       "0.0038451336599819586"
      ]
     },
     "execution_count": 226,
     "metadata": {},
     "output_type": "execute_result"
    }
   ],
   "source": [
    "base_features = ['relative_humidity_2m_above_ground']\n",
    "\n",
    "base = LinearRegression()\n",
    "base.fit(X_train[base_features], y_train)\n",
    "\n",
    "y_pred_train = base.predict(X_train[base_features])\n",
    "y_pred_base = base.predict(X_test[base_features])\n",
    "e_base = y_test - y_pred_base\n",
    "\n",
    "rmse = mean_squared_error(y_test, y_pred_base, squared = False)\n",
    "rmse\n",
    "\n",
    "r2 = r2_score(y_test, y_pred_base)\n",
    "print(r2)\n",
    "\n",
    "output = pd.DataFrame(np.c_[y_test, y_pred_base])\n",
    "output\n",
    "\n",
    "base.intercept_\n",
    "base.coef_\n",
    "\n",
    "r2_score(y_train, y_pred_train)\n"
   ]
  },
  {
   "cell_type": "code",
   "execution_count": 223,
   "metadata": {},
   "outputs": [
    {
     "data": {
      "text/plain": [
       "Text(0, 0.5, 'pm2.5')"
      ]
     },
     "execution_count": 223,
     "metadata": {},
     "output_type": "execute_result"
    },
    {
     "data": {
      "image/png": "[encoded data removed]",
      "text/plain": [
       "<Figure size 640x480 with 1 Axes>"
      ]
     },
     "metadata": {},
     "output_type": "display_data"
    }
   ],
   "source": [
    "plt.scatter(X_train[base_features], y_train)\n",
    "plt.xlabel('weather')\n",
    "plt.ylabel('pm2.5')"
   ]
  },
  {
   "cell_type": "code",
   "execution_count": 191,
   "metadata": {},
   "outputs": [
    {
     "data": {
      "text/plain": [
       "<matplotlib.collections.PathCollection at 0x29a0a4f10>"
      ]
     },
     "execution_count": 191,
     "metadata": {},
     "output_type": "execute_result"
    },
    {
     "data": {
      "image/png": "[encoded data removed]",
      "text/plain": [
       "<Figure size 640x480 with 1 Axes>"
      ]
     },
     "metadata": {},
     "output_type": "display_data"
    }
   ],
   "source": [
    "plt.scatter(y_test, y_pred_base)"
   ]
  },
  {
   "cell_type": "markdown",
   "metadata": {},
   "source": [
    "## Imputation for missing values\n",
    "- we decided to use linear interpolation on the level of a place. \n",
    "- This means we need to: \n",
    "    - order data by place and date\n",
    "    - interpolate "
   ]
  },
  {
   "cell_type": "code",
   "execution_count": 237,
   "metadata": {},
   "outputs": [],
   "source": [
    "# X_train.columns"
   ]
  },
  {
   "cell_type": "code",
   "execution_count": 239,
   "metadata": {},
   "outputs": [
    {
     "data": {
      "text/plain": [
       "(24533, 42)"
      ]
     },
     "execution_count": 239,
     "metadata": {},
     "output_type": "execute_result"
    }
   ],
   "source": [
    "# drop all columns with satellite position information --> not relevant for prediction\n",
    "\n",
    "useful_col = [col for col in X_train if col.find('sensor') == -1 and col.find('solar') == -1 ]\n",
    "len(useful_col)\n",
    "useful_col\n",
    "\n",
    "X_train = X_train[useful_col]\n",
    "X_test = X_test[useful_col]\n",
    "\n",
    "# X_train.shape"
   ]
  },
  {
   "cell_type": "code",
   "execution_count": 251,
   "metadata": {},
   "outputs": [
    {
     "data": {
      "text/html": [
       "<div>\n",
       "<style scoped>\n",
       "    .dataframe tbody tr th:only-of-type {\n",
       "        vertical-align: middle;\n",
       "    }\n",
       "\n",
       "    .dataframe tbody tr th {\n",
       "        vertical-align: top;\n",
       "    }\n",
       "\n",
       "    .dataframe thead th {\n",
       "        text-align: right;\n",
       "    }\n",
       "</style>\n",
       "<table border=\"1\" class=\"dataframe\">\n",
       "  <thead>\n",
       "    <tr style=\"text-align: right;\">\n",
       "      <th></th>\n",
       "      <th></th>\n",
       "      <th>Place_ID X Date</th>\n",
       "      <th>Date</th>\n",
       "      <th>Place_ID</th>\n",
       "      <th>precipitable_water_entire_atmosphere</th>\n",
       "      <th>relative_humidity_2m_above_ground</th>\n",
       "      <th>specific_humidity_2m_above_ground</th>\n",
       "      <th>temperature_2m_above_ground</th>\n",
       "      <th>u_component_of_wind_10m_above_ground</th>\n",
       "      <th>v_component_of_wind_10m_above_ground</th>\n",
       "      <th>L3_NO2_NO2_column_number_density</th>\n",
       "      <th>...</th>\n",
       "      <th>L3_CLOUD_surface_albedo</th>\n",
       "      <th>L3_AER_AI_absorbing_aerosol_index</th>\n",
       "      <th>L3_SO2_SO2_column_number_density</th>\n",
       "      <th>L3_SO2_SO2_column_number_density_amf</th>\n",
       "      <th>L3_SO2_SO2_slant_column_number_density</th>\n",
       "      <th>L3_SO2_absorbing_aerosol_index</th>\n",
       "      <th>L3_SO2_cloud_fraction</th>\n",
       "      <th>L3_CH4_CH4_column_volume_mixing_ratio_dry_air</th>\n",
       "      <th>L3_CH4_aerosol_height</th>\n",
       "      <th>L3_CH4_aerosol_optical_depth</th>\n",
       "    </tr>\n",
       "    <tr>\n",
       "      <th>Place_ID</th>\n",
       "      <th></th>\n",
       "      <th></th>\n",
       "      <th></th>\n",
       "      <th></th>\n",
       "      <th></th>\n",
       "      <th></th>\n",
       "      <th></th>\n",
       "      <th></th>\n",
       "      <th></th>\n",
       "      <th></th>\n",
       "      <th></th>\n",
       "      <th></th>\n",
       "      <th></th>\n",
       "      <th></th>\n",
       "      <th></th>\n",
       "      <th></th>\n",
       "      <th></th>\n",
       "      <th></th>\n",
       "      <th></th>\n",
       "      <th></th>\n",
       "      <th></th>\n",
       "      <th></th>\n",
       "    </tr>\n",
       "  </thead>\n",
       "  <tbody>\n",
       "    <tr>\n",
       "      <th rowspan=\"5\" valign=\"top\">010Q650</th>\n",
       "      <th>0</th>\n",
       "      <td>010Q650 X 2020-01-02</td>\n",
       "      <td>2020-01-02</td>\n",
       "      <td>010Q650</td>\n",
       "      <td>11.000000</td>\n",
       "      <td>60.200001</td>\n",
       "      <td>0.00804</td>\n",
       "      <td>18.516840</td>\n",
       "      <td>1.996377</td>\n",
       "      <td>-1.227395</td>\n",
       "      <td>0.000074</td>\n",
       "      <td>...</td>\n",
       "      <td>NaN</td>\n",
       "      <td>-1.231330</td>\n",
       "      <td>-0.000127</td>\n",
       "      <td>0.312521</td>\n",
       "      <td>-0.000040</td>\n",
       "      <td>-1.861476</td>\n",
       "      <td>0.000000</td>\n",
       "      <td>1793.793579</td>\n",
       "      <td>3227.855469</td>\n",
       "      <td>0.010579</td>\n",
       "    </tr>\n",
       "    <tr>\n",
       "      <th>1</th>\n",
       "      <td>010Q650 X 2020-01-03</td>\n",
       "      <td>2020-01-03</td>\n",
       "      <td>010Q650</td>\n",
       "      <td>14.600000</td>\n",
       "      <td>48.799999</td>\n",
       "      <td>0.00839</td>\n",
       "      <td>22.546533</td>\n",
       "      <td>3.330430</td>\n",
       "      <td>-1.188108</td>\n",
       "      <td>0.000076</td>\n",
       "      <td>...</td>\n",
       "      <td>0.315403</td>\n",
       "      <td>-1.082553</td>\n",
       "      <td>0.000150</td>\n",
       "      <td>0.433957</td>\n",
       "      <td>0.000050</td>\n",
       "      <td>-1.452612</td>\n",
       "      <td>0.059433</td>\n",
       "      <td>1789.960449</td>\n",
       "      <td>3384.226562</td>\n",
       "      <td>0.015104</td>\n",
       "    </tr>\n",
       "    <tr>\n",
       "      <th>2</th>\n",
       "      <td>010Q650 X 2020-01-04</td>\n",
       "      <td>2020-01-04</td>\n",
       "      <td>010Q650</td>\n",
       "      <td>16.400000</td>\n",
       "      <td>33.400002</td>\n",
       "      <td>0.00750</td>\n",
       "      <td>27.031030</td>\n",
       "      <td>5.065727</td>\n",
       "      <td>3.500559</td>\n",
       "      <td>0.000067</td>\n",
       "      <td>...</td>\n",
       "      <td>0.307463</td>\n",
       "      <td>-1.001241</td>\n",
       "      <td>0.000150</td>\n",
       "      <td>0.356925</td>\n",
       "      <td>0.000053</td>\n",
       "      <td>-1.572950</td>\n",
       "      <td>0.082063</td>\n",
       "      <td>1566.215393</td>\n",
       "      <td>2961.198242</td>\n",
       "      <td>0.013216</td>\n",
       "    </tr>\n",
       "    <tr>\n",
       "      <th>3</th>\n",
       "      <td>010Q650 X 2020-01-05</td>\n",
       "      <td>2020-01-05</td>\n",
       "      <td>010Q650</td>\n",
       "      <td>6.911948</td>\n",
       "      <td>21.300001</td>\n",
       "      <td>0.00391</td>\n",
       "      <td>23.971857</td>\n",
       "      <td>3.004001</td>\n",
       "      <td>1.099468</td>\n",
       "      <td>0.000083</td>\n",
       "      <td>...</td>\n",
       "      <td>0.279637</td>\n",
       "      <td>-0.777023</td>\n",
       "      <td>0.000227</td>\n",
       "      <td>0.584522</td>\n",
       "      <td>0.000110</td>\n",
       "      <td>-1.239317</td>\n",
       "      <td>0.121261</td>\n",
       "      <td>1342.470337</td>\n",
       "      <td>2538.169922</td>\n",
       "      <td>0.011328</td>\n",
       "    </tr>\n",
       "    <tr>\n",
       "      <th>4</th>\n",
       "      <td>010Q650 X 2020-01-06</td>\n",
       "      <td>2020-01-06</td>\n",
       "      <td>010Q650</td>\n",
       "      <td>13.900001</td>\n",
       "      <td>44.700001</td>\n",
       "      <td>0.00535</td>\n",
       "      <td>16.816309</td>\n",
       "      <td>2.621787</td>\n",
       "      <td>2.670559</td>\n",
       "      <td>0.000070</td>\n",
       "      <td>...</td>\n",
       "      <td>0.238241</td>\n",
       "      <td>0.366324</td>\n",
       "      <td>0.000390</td>\n",
       "      <td>0.408047</td>\n",
       "      <td>0.000159</td>\n",
       "      <td>0.202489</td>\n",
       "      <td>0.037919</td>\n",
       "      <td>1118.725281</td>\n",
       "      <td>2115.141602</td>\n",
       "      <td>0.009440</td>\n",
       "    </tr>\n",
       "    <tr>\n",
       "      <th>...</th>\n",
       "      <th>...</th>\n",
       "      <td>...</td>\n",
       "      <td>...</td>\n",
       "      <td>...</td>\n",
       "      <td>...</td>\n",
       "      <td>...</td>\n",
       "      <td>...</td>\n",
       "      <td>...</td>\n",
       "      <td>...</td>\n",
       "      <td>...</td>\n",
       "      <td>...</td>\n",
       "      <td>...</td>\n",
       "      <td>...</td>\n",
       "      <td>...</td>\n",
       "      <td>...</td>\n",
       "      <td>...</td>\n",
       "      <td>...</td>\n",
       "      <td>...</td>\n",
       "      <td>...</td>\n",
       "      <td>...</td>\n",
       "      <td>...</td>\n",
       "      <td>...</td>\n",
       "    </tr>\n",
       "    <tr>\n",
       "      <th rowspan=\"5\" valign=\"top\">YWSFY6Q</th>\n",
       "      <th>30552</th>\n",
       "      <td>YWSFY6Q X 2020-03-15</td>\n",
       "      <td>2020-03-15</td>\n",
       "      <td>YWSFY6Q</td>\n",
       "      <td>6.700000</td>\n",
       "      <td>68.300003</td>\n",
       "      <td>0.00352</td>\n",
       "      <td>4.256799</td>\n",
       "      <td>-4.810586</td>\n",
       "      <td>-4.195359</td>\n",
       "      <td>0.000063</td>\n",
       "      <td>...</td>\n",
       "      <td>0.243682</td>\n",
       "      <td>-1.412609</td>\n",
       "      <td>0.000312</td>\n",
       "      <td>0.203573</td>\n",
       "      <td>0.000063</td>\n",
       "      <td>-1.953480</td>\n",
       "      <td>0.001310</td>\n",
       "      <td>1861.336759</td>\n",
       "      <td>3427.447782</td>\n",
       "      <td>0.042790</td>\n",
       "    </tr>\n",
       "    <tr>\n",
       "      <th>30553</th>\n",
       "      <td>YWSFY6Q X 2020-03-16</td>\n",
       "      <td>2020-03-16</td>\n",
       "      <td>YWSFY6Q</td>\n",
       "      <td>6.300000</td>\n",
       "      <td>77.700005</td>\n",
       "      <td>0.00341</td>\n",
       "      <td>2.067438</td>\n",
       "      <td>-2.346421</td>\n",
       "      <td>0.749136</td>\n",
       "      <td>0.000072</td>\n",
       "      <td>...</td>\n",
       "      <td>0.156944</td>\n",
       "      <td>-1.448509</td>\n",
       "      <td>0.000362</td>\n",
       "      <td>0.234613</td>\n",
       "      <td>0.000090</td>\n",
       "      <td>-2.178236</td>\n",
       "      <td>0.007644</td>\n",
       "      <td>1863.555567</td>\n",
       "      <td>3475.020107</td>\n",
       "      <td>0.052920</td>\n",
       "    </tr>\n",
       "    <tr>\n",
       "      <th>30554</th>\n",
       "      <td>YWSFY6Q X 2020-03-17</td>\n",
       "      <td>2020-03-17</td>\n",
       "      <td>YWSFY6Q</td>\n",
       "      <td>7.100000</td>\n",
       "      <td>68.500000</td>\n",
       "      <td>0.00356</td>\n",
       "      <td>4.438623</td>\n",
       "      <td>0.095703</td>\n",
       "      <td>0.141943</td>\n",
       "      <td>0.000068</td>\n",
       "      <td>...</td>\n",
       "      <td>0.211473</td>\n",
       "      <td>-1.722478</td>\n",
       "      <td>0.000107</td>\n",
       "      <td>0.263715</td>\n",
       "      <td>0.000031</td>\n",
       "      <td>-2.365827</td>\n",
       "      <td>0.025447</td>\n",
       "      <td>1863.555567</td>\n",
       "      <td>3475.020107</td>\n",
       "      <td>0.052920</td>\n",
       "    </tr>\n",
       "    <tr>\n",
       "      <th>30555</th>\n",
       "      <td>YWSFY6Q X 2020-03-18</td>\n",
       "      <td>2020-03-18</td>\n",
       "      <td>YWSFY6Q</td>\n",
       "      <td>19.100000</td>\n",
       "      <td>66.300003</td>\n",
       "      <td>0.00523</td>\n",
       "      <td>10.573236</td>\n",
       "      <td>0.434940</td>\n",
       "      <td>-1.439778</td>\n",
       "      <td>0.000086</td>\n",
       "      <td>...</td>\n",
       "      <td>0.221439</td>\n",
       "      <td>-2.042785</td>\n",
       "      <td>0.000014</td>\n",
       "      <td>0.546447</td>\n",
       "      <td>-0.000008</td>\n",
       "      <td>-2.784346</td>\n",
       "      <td>0.153445</td>\n",
       "      <td>1863.555567</td>\n",
       "      <td>3475.020107</td>\n",
       "      <td>0.052920</td>\n",
       "    </tr>\n",
       "    <tr>\n",
       "      <th>30556</th>\n",
       "      <td>YWSFY6Q X 2020-03-19</td>\n",
       "      <td>2020-03-19</td>\n",
       "      <td>YWSFY6Q</td>\n",
       "      <td>11.600000</td>\n",
       "      <td>68.400002</td>\n",
       "      <td>0.00486</td>\n",
       "      <td>9.002069</td>\n",
       "      <td>-0.710093</td>\n",
       "      <td>0.887913</td>\n",
       "      <td>0.000079</td>\n",
       "      <td>...</td>\n",
       "      <td>0.221439</td>\n",
       "      <td>-2.042785</td>\n",
       "      <td>0.000014</td>\n",
       "      <td>0.546447</td>\n",
       "      <td>-0.000008</td>\n",
       "      <td>-2.784346</td>\n",
       "      <td>0.153445</td>\n",
       "      <td>1863.555567</td>\n",
       "      <td>3475.020107</td>\n",
       "      <td>0.052920</td>\n",
       "    </tr>\n",
       "  </tbody>\n",
       "</table>\n",
       "<p>24533 rows × 42 columns</p>\n",
       "</div>"
      ],
      "text/plain": [
       "                     Place_ID X Date        Date Place_ID   \n",
       "Place_ID                                                    \n",
       "010Q650  0      010Q650 X 2020-01-02  2020-01-02  010Q650  \\\n",
       "         1      010Q650 X 2020-01-03  2020-01-03  010Q650   \n",
       "         2      010Q650 X 2020-01-04  2020-01-04  010Q650   \n",
       "         3      010Q650 X 2020-01-05  2020-01-05  010Q650   \n",
       "         4      010Q650 X 2020-01-06  2020-01-06  010Q650   \n",
       "...                              ...         ...      ...   \n",
       "YWSFY6Q  30552  YWSFY6Q X 2020-03-15  2020-03-15  YWSFY6Q   \n",
       "         30553  YWSFY6Q X 2020-03-16  2020-03-16  YWSFY6Q   \n",
       "         30554  YWSFY6Q X 2020-03-17  2020-03-17  YWSFY6Q   \n",
       "         30555  YWSFY6Q X 2020-03-18  2020-03-18  YWSFY6Q   \n",
       "         30556  YWSFY6Q X 2020-03-19  2020-03-19  YWSFY6Q   \n",
       "\n",
       "                precipitable_water_entire_atmosphere   \n",
       "Place_ID                                               \n",
       "010Q650  0                                 11.000000  \\\n",
       "         1                                 14.600000   \n",
       "         2                                 16.400000   \n",
       "         3                                  6.911948   \n",
       "         4                                 13.900001   \n",
       "...                                              ...   \n",
       "YWSFY6Q  30552                              6.700000   \n",
       "         30553                              6.300000   \n",
       "         30554                              7.100000   \n",
       "         30555                             19.100000   \n",
       "         30556                             11.600000   \n",
       "\n",
       "                relative_humidity_2m_above_ground   \n",
       "Place_ID                                            \n",
       "010Q650  0                              60.200001  \\\n",
       "         1                              48.799999   \n",
       "         2                              33.400002   \n",
       "         3                              21.300001   \n",
       "         4                              44.700001   \n",
       "...                                           ...   \n",
       "YWSFY6Q  30552                          68.300003   \n",
       "         30553                          77.700005   \n",
       "         30554                          68.500000   \n",
       "         30555                          66.300003   \n",
       "         30556                          68.400002   \n",
       "\n",
       "                specific_humidity_2m_above_ground   \n",
       "Place_ID                                            \n",
       "010Q650  0                                0.00804  \\\n",
       "         1                                0.00839   \n",
       "         2                                0.00750   \n",
       "         3                                0.00391   \n",
       "         4                                0.00535   \n",
       "...                                           ...   \n",
       "YWSFY6Q  30552                            0.00352   \n",
       "         30553                            0.00341   \n",
       "         30554                            0.00356   \n",
       "         30555                            0.00523   \n",
       "         30556                            0.00486   \n",
       "\n",
       "                temperature_2m_above_ground   \n",
       "Place_ID                                      \n",
       "010Q650  0                        18.516840  \\\n",
       "         1                        22.546533   \n",
       "         2                        27.031030   \n",
       "         3                        23.971857   \n",
       "         4                        16.816309   \n",
       "...                                     ...   \n",
       "YWSFY6Q  30552                     4.256799   \n",
       "         30553                     2.067438   \n",
       "         30554                     4.438623   \n",
       "         30555                    10.573236   \n",
       "         30556                     9.002069   \n",
       "\n",
       "                u_component_of_wind_10m_above_ground   \n",
       "Place_ID                                               \n",
       "010Q650  0                                  1.996377  \\\n",
       "         1                                  3.330430   \n",
       "         2                                  5.065727   \n",
       "         3                                  3.004001   \n",
       "         4                                  2.621787   \n",
       "...                                              ...   \n",
       "YWSFY6Q  30552                             -4.810586   \n",
       "         30553                             -2.346421   \n",
       "         30554                              0.095703   \n",
       "         30555                              0.434940   \n",
       "         30556                             -0.710093   \n",
       "\n",
       "                v_component_of_wind_10m_above_ground   \n",
       "Place_ID                                               \n",
       "010Q650  0                                 -1.227395  \\\n",
       "         1                                 -1.188108   \n",
       "         2                                  3.500559   \n",
       "         3                                  1.099468   \n",
       "         4                                  2.670559   \n",
       "...                                              ...   \n",
       "YWSFY6Q  30552                             -4.195359   \n",
       "         30553                              0.749136   \n",
       "         30554                              0.141943   \n",
       "         30555                             -1.439778   \n",
       "         30556                              0.887913   \n",
       "\n",
       "                L3_NO2_NO2_column_number_density  ...   \n",
       "Place_ID                                          ...   \n",
       "010Q650  0                              0.000074  ...  \\\n",
       "         1                              0.000076  ...   \n",
       "         2                              0.000067  ...   \n",
       "         3                              0.000083  ...   \n",
       "         4                              0.000070  ...   \n",
       "...                                          ...  ...   \n",
       "YWSFY6Q  30552                          0.000063  ...   \n",
       "         30553                          0.000072  ...   \n",
       "         30554                          0.000068  ...   \n",
       "         30555                          0.000086  ...   \n",
       "         30556                          0.000079  ...   \n",
       "\n",
       "                L3_CLOUD_surface_albedo  L3_AER_AI_absorbing_aerosol_index   \n",
       "Place_ID                                                                     \n",
       "010Q650  0                          NaN                          -1.231330  \\\n",
       "         1                     0.315403                          -1.082553   \n",
       "         2                     0.307463                          -1.001241   \n",
       "         3                     0.279637                          -0.777023   \n",
       "         4                     0.238241                           0.366324   \n",
       "...                                 ...                                ...   \n",
       "YWSFY6Q  30552                 0.243682                          -1.412609   \n",
       "         30553                 0.156944                          -1.448509   \n",
       "         30554                 0.211473                          -1.722478   \n",
       "         30555                 0.221439                          -2.042785   \n",
       "         30556                 0.221439                          -2.042785   \n",
       "\n",
       "                L3_SO2_SO2_column_number_density   \n",
       "Place_ID                                           \n",
       "010Q650  0                             -0.000127  \\\n",
       "         1                              0.000150   \n",
       "         2                              0.000150   \n",
       "         3                              0.000227   \n",
       "         4                              0.000390   \n",
       "...                                          ...   \n",
       "YWSFY6Q  30552                          0.000312   \n",
       "         30553                          0.000362   \n",
       "         30554                          0.000107   \n",
       "         30555                          0.000014   \n",
       "         30556                          0.000014   \n",
       "\n",
       "                L3_SO2_SO2_column_number_density_amf   \n",
       "Place_ID                                               \n",
       "010Q650  0                                  0.312521  \\\n",
       "         1                                  0.433957   \n",
       "         2                                  0.356925   \n",
       "         3                                  0.584522   \n",
       "         4                                  0.408047   \n",
       "...                                              ...   \n",
       "YWSFY6Q  30552                              0.203573   \n",
       "         30553                              0.234613   \n",
       "         30554                              0.263715   \n",
       "         30555                              0.546447   \n",
       "         30556                              0.546447   \n",
       "\n",
       "                L3_SO2_SO2_slant_column_number_density   \n",
       "Place_ID                                                 \n",
       "010Q650  0                                   -0.000040  \\\n",
       "         1                                    0.000050   \n",
       "         2                                    0.000053   \n",
       "         3                                    0.000110   \n",
       "         4                                    0.000159   \n",
       "...                                                ...   \n",
       "YWSFY6Q  30552                                0.000063   \n",
       "         30553                                0.000090   \n",
       "         30554                                0.000031   \n",
       "         30555                               -0.000008   \n",
       "         30556                               -0.000008   \n",
       "\n",
       "                L3_SO2_absorbing_aerosol_index  L3_SO2_cloud_fraction   \n",
       "Place_ID                                                                \n",
       "010Q650  0                           -1.861476               0.000000  \\\n",
       "         1                           -1.452612               0.059433   \n",
       "         2                           -1.572950               0.082063   \n",
       "         3                           -1.239317               0.121261   \n",
       "         4                            0.202489               0.037919   \n",
       "...                                        ...                    ...   \n",
       "YWSFY6Q  30552                       -1.953480               0.001310   \n",
       "         30553                       -2.178236               0.007644   \n",
       "         30554                       -2.365827               0.025447   \n",
       "         30555                       -2.784346               0.153445   \n",
       "         30556                       -2.784346               0.153445   \n",
       "\n",
       "                L3_CH4_CH4_column_volume_mixing_ratio_dry_air   \n",
       "Place_ID                                                        \n",
       "010Q650  0                                        1793.793579  \\\n",
       "         1                                        1789.960449   \n",
       "         2                                        1566.215393   \n",
       "         3                                        1342.470337   \n",
       "         4                                        1118.725281   \n",
       "...                                                       ...   \n",
       "YWSFY6Q  30552                                    1861.336759   \n",
       "         30553                                    1863.555567   \n",
       "         30554                                    1863.555567   \n",
       "         30555                                    1863.555567   \n",
       "         30556                                    1863.555567   \n",
       "\n",
       "                L3_CH4_aerosol_height  L3_CH4_aerosol_optical_depth  \n",
       "Place_ID                                                             \n",
       "010Q650  0                3227.855469                      0.010579  \n",
       "         1                3384.226562                      0.015104  \n",
       "         2                2961.198242                      0.013216  \n",
       "         3                2538.169922                      0.011328  \n",
       "         4                2115.141602                      0.009440  \n",
       "...                               ...                           ...  \n",
       "YWSFY6Q  30552            3427.447782                      0.042790  \n",
       "         30553            3475.020107                      0.052920  \n",
       "         30554            3475.020107                      0.052920  \n",
       "         30555            3475.020107                      0.052920  \n",
       "         30556            3475.020107                      0.052920  \n",
       "\n",
       "[24533 rows x 42 columns]"
      ]
     },
     "execution_count": 251,
     "metadata": {},
     "output_type": "execute_result"
    }
   ],
   "source": [
    "# linear imputation of missing values\n",
    "X_train.sort_values(['Place_ID X Date'])\n",
    "X_test.sort_values(['Place_ID X Date'])\n",
    "\n",
    "# Imputing with linear interpolation\n",
    "linear_interpolation = X_train.interpolate(method='linear')\n",
    "linear_interpolation.head()\n",
    "\n",
    "\n",
    "linear_improved = X_train.groupby('Place_ID').apply(lambda group: group.interpolate(method='linear'))\n",
    "linear_improved\n",
    "\n",
    "## next: \n",
    "# 1. deal with corner values forward backward\n",
    "# 2. deal with that one city which has 0 observations for CH4\n",
    "# 3. plot results and celebrate\n",
    "\n",
    "# # Plot imputed data\n",
    "# linear_int['MaxSpeed'][:100].plot(color='red', marker='o', linestyle='dotted')\n",
    "# df['MaxSpeed'][:100].plot(title='MaxSpeed', marker='o')\n",
    "\n",
    "# splitting tasks: \n",
    "# - finish interpolation \n",
    "# - understand pollution variables & summary stastistics & correlations\n",
    "# - scaling + feature engineering \n",
    "# - plan which model to use & implement \n",
    "# [- presentation]\n"
   ]
  }
 ],
 "metadata": {
  "kernelspec": {
   "display_name": ".venv",
   "language": "python",
   "name": "python3"
  },
  "language_info": {
   "codemirror_mode": {
    "name": "ipython",
    "version": 3
   },
   "file_extension": ".py",
   "mimetype": "text/x-python",
   "name": "python",
   "nbconvert_exporter": "python",
   "pygments_lexer": "ipython3",
   "version": "3.11.3"
  }
 },
 "nbformat": 4,
 "nbformat_minor": 2
}
