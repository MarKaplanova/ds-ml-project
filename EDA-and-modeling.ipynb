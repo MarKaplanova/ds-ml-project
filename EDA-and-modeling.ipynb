{
 "cells": [
  {
   "cell_type": "code",
   "execution_count": 1,
   "metadata": {},
   "outputs": [
    {
     "ename": "ParserError",
     "evalue": "Error tokenizing data. C error: Expected 1 fields in line 10, saw 4\n",
     "output_type": "error",
     "traceback": [
      "\u001b[0;31m---------------------------------------------------------------------------\u001b[0m",
      "\u001b[0;31mParserError\u001b[0m                               Traceback (most recent call last)",
      "Cell \u001b[0;32mIn[1], line 9\u001b[0m\n\u001b[1;32m      6\u001b[0m train_url\u001b[38;5;241m=\u001b[39m\u001b[38;5;124m'\u001b[39m\u001b[38;5;124mhttps://zindi.africa/competitions/zindiweekendz-learning-urban-air-pollution-challenge/data/Train.csv\u001b[39m\u001b[38;5;124m'\u001b[39m\n\u001b[1;32m      7\u001b[0m test_url\u001b[38;5;241m=\u001b[39m\u001b[38;5;124m'\u001b[39m\u001b[38;5;124mhttps://zindi.africa/competitions/zindiweekendz-learning-urban-air-pollution-challenge/data/Test.csv\u001b[39m\u001b[38;5;124m'\u001b[39m\n\u001b[0;32m----> 9\u001b[0m train_data\u001b[38;5;241m=\u001b[39m\u001b[43mpd\u001b[49m\u001b[38;5;241;43m.\u001b[39;49m\u001b[43mread_csv\u001b[49m\u001b[43m(\u001b[49m\u001b[43mtrain_url\u001b[49m\u001b[43m)\u001b[49m\n\u001b[1;32m     10\u001b[0m test_data\u001b[38;5;241m=\u001b[39mpd\u001b[38;5;241m.\u001b[39mread_csv(test_url)\n\u001b[1;32m     12\u001b[0m \u001b[38;5;66;03m#train_data.to_csv('data/Train.csv')\u001b[39;00m\n\u001b[1;32m     13\u001b[0m \u001b[38;5;66;03m#test_data.to_csv('data/Test.csv')\u001b[39;00m\n",
      "File \u001b[0;32m~/Projects/ds-ml-project/.venv/lib/python3.11/site-packages/pandas/io/parsers/readers.py:912\u001b[0m, in \u001b[0;36mread_csv\u001b[0;34m(filepath_or_buffer, sep, delimiter, header, names, index_col, usecols, dtype, engine, converters, true_values, false_values, skipinitialspace, skiprows, skipfooter, nrows, na_values, keep_default_na, na_filter, verbose, skip_blank_lines, parse_dates, infer_datetime_format, keep_date_col, date_parser, date_format, dayfirst, cache_dates, iterator, chunksize, compression, thousands, decimal, lineterminator, quotechar, quoting, doublequote, escapechar, comment, encoding, encoding_errors, dialect, on_bad_lines, delim_whitespace, low_memory, memory_map, float_precision, storage_options, dtype_backend)\u001b[0m\n\u001b[1;32m    899\u001b[0m kwds_defaults \u001b[38;5;241m=\u001b[39m _refine_defaults_read(\n\u001b[1;32m    900\u001b[0m     dialect,\n\u001b[1;32m    901\u001b[0m     delimiter,\n\u001b[0;32m   (...)\u001b[0m\n\u001b[1;32m    908\u001b[0m     dtype_backend\u001b[38;5;241m=\u001b[39mdtype_backend,\n\u001b[1;32m    909\u001b[0m )\n\u001b[1;32m    910\u001b[0m kwds\u001b[38;5;241m.\u001b[39mupdate(kwds_defaults)\n\u001b[0;32m--> 912\u001b[0m \u001b[38;5;28;01mreturn\u001b[39;00m \u001b[43m_read\u001b[49m\u001b[43m(\u001b[49m\u001b[43mfilepath_or_buffer\u001b[49m\u001b[43m,\u001b[49m\u001b[43m \u001b[49m\u001b[43mkwds\u001b[49m\u001b[43m)\u001b[49m\n",
      "File \u001b[0;32m~/Projects/ds-ml-project/.venv/lib/python3.11/site-packages/pandas/io/parsers/readers.py:583\u001b[0m, in \u001b[0;36m_read\u001b[0;34m(filepath_or_buffer, kwds)\u001b[0m\n\u001b[1;32m    580\u001b[0m     \u001b[38;5;28;01mreturn\u001b[39;00m parser\n\u001b[1;32m    582\u001b[0m \u001b[38;5;28;01mwith\u001b[39;00m parser:\n\u001b[0;32m--> 583\u001b[0m     \u001b[38;5;28;01mreturn\u001b[39;00m \u001b[43mparser\u001b[49m\u001b[38;5;241;43m.\u001b[39;49m\u001b[43mread\u001b[49m\u001b[43m(\u001b[49m\u001b[43mnrows\u001b[49m\u001b[43m)\u001b[49m\n",
      "File \u001b[0;32m~/Projects/ds-ml-project/.venv/lib/python3.11/site-packages/pandas/io/parsers/readers.py:1704\u001b[0m, in \u001b[0;36mTextFileReader.read\u001b[0;34m(self, nrows)\u001b[0m\n\u001b[1;32m   1697\u001b[0m nrows \u001b[38;5;241m=\u001b[39m validate_integer(\u001b[38;5;124m\"\u001b[39m\u001b[38;5;124mnrows\u001b[39m\u001b[38;5;124m\"\u001b[39m, nrows)\n\u001b[1;32m   1698\u001b[0m \u001b[38;5;28;01mtry\u001b[39;00m:\n\u001b[1;32m   1699\u001b[0m     \u001b[38;5;66;03m# error: \"ParserBase\" has no attribute \"read\"\u001b[39;00m\n\u001b[1;32m   1700\u001b[0m     (\n\u001b[1;32m   1701\u001b[0m         index,\n\u001b[1;32m   1702\u001b[0m         columns,\n\u001b[1;32m   1703\u001b[0m         col_dict,\n\u001b[0;32m-> 1704\u001b[0m     ) \u001b[38;5;241m=\u001b[39m \u001b[38;5;28;43mself\u001b[39;49m\u001b[38;5;241;43m.\u001b[39;49m\u001b[43m_engine\u001b[49m\u001b[38;5;241;43m.\u001b[39;49m\u001b[43mread\u001b[49m\u001b[43m(\u001b[49m\u001b[43m  \u001b[49m\u001b[38;5;66;43;03m# type: ignore[attr-defined]\u001b[39;49;00m\n\u001b[1;32m   1705\u001b[0m \u001b[43m        \u001b[49m\u001b[43mnrows\u001b[49m\n\u001b[1;32m   1706\u001b[0m \u001b[43m    \u001b[49m\u001b[43m)\u001b[49m\n\u001b[1;32m   1707\u001b[0m \u001b[38;5;28;01mexcept\u001b[39;00m \u001b[38;5;167;01mException\u001b[39;00m:\n\u001b[1;32m   1708\u001b[0m     \u001b[38;5;28mself\u001b[39m\u001b[38;5;241m.\u001b[39mclose()\n",
      "File \u001b[0;32m~/Projects/ds-ml-project/.venv/lib/python3.11/site-packages/pandas/io/parsers/c_parser_wrapper.py:234\u001b[0m, in \u001b[0;36mCParserWrapper.read\u001b[0;34m(self, nrows)\u001b[0m\n\u001b[1;32m    232\u001b[0m \u001b[38;5;28;01mtry\u001b[39;00m:\n\u001b[1;32m    233\u001b[0m     \u001b[38;5;28;01mif\u001b[39;00m \u001b[38;5;28mself\u001b[39m\u001b[38;5;241m.\u001b[39mlow_memory:\n\u001b[0;32m--> 234\u001b[0m         chunks \u001b[38;5;241m=\u001b[39m \u001b[38;5;28;43mself\u001b[39;49m\u001b[38;5;241;43m.\u001b[39;49m\u001b[43m_reader\u001b[49m\u001b[38;5;241;43m.\u001b[39;49m\u001b[43mread_low_memory\u001b[49m\u001b[43m(\u001b[49m\u001b[43mnrows\u001b[49m\u001b[43m)\u001b[49m\n\u001b[1;32m    235\u001b[0m         \u001b[38;5;66;03m# destructive to chunks\u001b[39;00m\n\u001b[1;32m    236\u001b[0m         data \u001b[38;5;241m=\u001b[39m _concatenate_chunks(chunks)\n",
      "File \u001b[0;32m~/Projects/ds-ml-project/.venv/lib/python3.11/site-packages/pandas/_libs/parsers.pyx:812\u001b[0m, in \u001b[0;36mpandas._libs.parsers.TextReader.read_low_memory\u001b[0;34m()\u001b[0m\n",
      "File \u001b[0;32m~/Projects/ds-ml-project/.venv/lib/python3.11/site-packages/pandas/_libs/parsers.pyx:873\u001b[0m, in \u001b[0;36mpandas._libs.parsers.TextReader._read_rows\u001b[0;34m()\u001b[0m\n",
      "File \u001b[0;32m~/Projects/ds-ml-project/.venv/lib/python3.11/site-packages/pandas/_libs/parsers.pyx:848\u001b[0m, in \u001b[0;36mpandas._libs.parsers.TextReader._tokenize_rows\u001b[0;34m()\u001b[0m\n",
      "File \u001b[0;32m~/Projects/ds-ml-project/.venv/lib/python3.11/site-packages/pandas/_libs/parsers.pyx:859\u001b[0m, in \u001b[0;36mpandas._libs.parsers.TextReader._check_tokenize_status\u001b[0;34m()\u001b[0m\n",
      "File \u001b[0;32m~/Projects/ds-ml-project/.venv/lib/python3.11/site-packages/pandas/_libs/parsers.pyx:2025\u001b[0m, in \u001b[0;36mpandas._libs.parsers.raise_parser_error\u001b[0;34m()\u001b[0m\n",
      "\u001b[0;31mParserError\u001b[0m: Error tokenizing data. C error: Expected 1 fields in line 10, saw 4\n"
     ]
    }
   ],
   "source": [
    "import os\n",
    "from dotenv import load_dotenv\n",
    "import pandas as pd\n",
    "import numpy as np\n",
    "import warnings\n",
    "warnings.filterwarnings('ignore')\n",
    "\n",
    "load_dotenv()\n",
    "\n",
    "ZINDI_AUTH_TOKEN = os.getenv('ZINDI_AUTH_TOKEN')\n",
    "\n",
    "train_url=f'https://api.zindi.africa/v1/competitions/zindiweekendz-learning-urban-air-pollution-challenge/files/Train.csv?auth_token={ZINDI_AUTH_TOKEN}'\n",
    "test_url=f'https://api.zindi.africa/v1/competitions/zindiweekendz-learning-urban-air-pollution-challenge/files/Test.csv?auth_token={ZINDI_AUTH_TOKEN}'\n",
    "\n",
    "train_data=pd.read_csv(train_url)\n",
    "test_data=pd.read_csv(test_url)\n",
    "\n",
    "#train_data.to_csv('data/Train.csv')\n",
    "#test_data.to_csv('data/Test.csv')\n"
   ]
  },
  {
   "cell_type": "code",
   "execution_count": null,
   "metadata": {},
   "outputs": [
    {
     "ename": "",
     "evalue": "",
     "output_type": "error",
     "traceback": [
      "\u001b[1;31mRunning cells with '.venv' requires the ipykernel package.\n",
      "\u001b[1;31mRun the following command to install 'ipykernel' into the Python environment. \n",
      "\u001b[1;31mCommand: '/Users/robertnorris/Projects/ds-ml-project/.venv/bin/python -m pip install ipykernel -U --force-reinstall'"
     ]
    }
   ],
   "source": [
    "train_data.head()"
   ]
  },
  {
   "cell_type": "code",
   "execution_count": 3,
   "metadata": {},
   "outputs": [
    {
     "data": {
      "text/html": [
       "<div>\n",
       "<style scoped>\n",
       "    .dataframe tbody tr th:only-of-type {\n",
       "        vertical-align: middle;\n",
       "    }\n",
       "\n",
       "    .dataframe tbody tr th {\n",
       "        vertical-align: top;\n",
       "    }\n",
       "\n",
       "    .dataframe thead th {\n",
       "        text-align: right;\n",
       "    }\n",
       "</style>\n",
       "<table border=\"1\" class=\"dataframe\">\n",
       "  <thead>\n",
       "    <tr style=\"text-align: right;\">\n",
       "      <th></th>\n",
       "      <th>Unnamed: 0</th>\n",
       "      <th>quality_score</th>\n",
       "      <th>view_certificate_1</th>\n",
       "      <th>view_certificate_2</th>\n",
       "      <th>Cupping Protocol and Descriptors</th>\n",
       "      <th>View Green Analysis Details</th>\n",
       "      <th>Request a Sample</th>\n",
       "      <th>Species</th>\n",
       "      <th>Owner</th>\n",
       "      <th>Country of Origin</th>\n",
       "      <th>...</th>\n",
       "      <th>Moisture</th>\n",
       "      <th>Category One Defects</th>\n",
       "      <th>Quakers</th>\n",
       "      <th>Color</th>\n",
       "      <th>Category Two Defects</th>\n",
       "      <th>NA.3</th>\n",
       "      <th>Expiration</th>\n",
       "      <th>Certification Body</th>\n",
       "      <th>Certification Address</th>\n",
       "      <th>Certification Contact</th>\n",
       "    </tr>\n",
       "  </thead>\n",
       "  <tbody>\n",
       "    <tr>\n",
       "      <th>0</th>\n",
       "      <td>0</td>\n",
       "      <td>83.75</td>\n",
       "      <td>NaN</td>\n",
       "      <td>NaN</td>\n",
       "      <td>NaN</td>\n",
       "      <td>NaN</td>\n",
       "      <td>NaN</td>\n",
       "      <td>Robusta</td>\n",
       "      <td>Ankole coffee producers coop</td>\n",
       "      <td>Uganda</td>\n",
       "      <td>...</td>\n",
       "      <td>12 %</td>\n",
       "      <td>0 full defects</td>\n",
       "      <td>0</td>\n",
       "      <td>Green</td>\n",
       "      <td>2 full defects</td>\n",
       "      <td>NaN</td>\n",
       "      <td>June 26th, 2015</td>\n",
       "      <td>Uganda Coffee Development Authority</td>\n",
       "      <td>Coffee House, Plot 35, Jinja Road, P.O. Box 72...</td>\n",
       "      <td>Clare Rwakatogoro - 256-41-256940/233073</td>\n",
       "    </tr>\n",
       "    <tr>\n",
       "      <th>1</th>\n",
       "      <td>0</td>\n",
       "      <td>83.50</td>\n",
       "      <td>NaN</td>\n",
       "      <td>NaN</td>\n",
       "      <td>NaN</td>\n",
       "      <td>NaN</td>\n",
       "      <td>NaN</td>\n",
       "      <td>Robusta</td>\n",
       "      <td>Nishant Gurjer</td>\n",
       "      <td>India</td>\n",
       "      <td>...</td>\n",
       "      <td>0 %</td>\n",
       "      <td>0 full defects</td>\n",
       "      <td>0</td>\n",
       "      <td>NaN</td>\n",
       "      <td>2 full defects</td>\n",
       "      <td>NaN</td>\n",
       "      <td>October 31st, 2018</td>\n",
       "      <td>Specialty Coffee Association</td>\n",
       "      <td>117 W 4th St, Suite 300 Santa Ana, CA 92701</td>\n",
       "      <td>Chris Buck - (562) 624-4100</td>\n",
       "    </tr>\n",
       "    <tr>\n",
       "      <th>2</th>\n",
       "      <td>0</td>\n",
       "      <td>83.25</td>\n",
       "      <td>NaN</td>\n",
       "      <td>NaN</td>\n",
       "      <td>NaN</td>\n",
       "      <td>NaN</td>\n",
       "      <td>NaN</td>\n",
       "      <td>Robusta</td>\n",
       "      <td>Andrew Hetzel</td>\n",
       "      <td>India</td>\n",
       "      <td>...</td>\n",
       "      <td>0 %</td>\n",
       "      <td>0 full defects</td>\n",
       "      <td>0</td>\n",
       "      <td>Green</td>\n",
       "      <td>0 full defects</td>\n",
       "      <td>NaN</td>\n",
       "      <td>April 29th, 2016</td>\n",
       "      <td>Specialty Coffee Association</td>\n",
       "      <td>117 W 4th St, Suite 300 Santa Ana, CA 92701</td>\n",
       "      <td>Chris Buck - (562) 624-4100</td>\n",
       "    </tr>\n",
       "    <tr>\n",
       "      <th>3</th>\n",
       "      <td>0</td>\n",
       "      <td>83.00</td>\n",
       "      <td>NaN</td>\n",
       "      <td>NaN</td>\n",
       "      <td>NaN</td>\n",
       "      <td>NaN</td>\n",
       "      <td>NaN</td>\n",
       "      <td>Robusta</td>\n",
       "      <td>UGACOF</td>\n",
       "      <td>Uganda</td>\n",
       "      <td>...</td>\n",
       "      <td>12 %</td>\n",
       "      <td>0 full defects</td>\n",
       "      <td>0</td>\n",
       "      <td>Green</td>\n",
       "      <td>7 full defects</td>\n",
       "      <td>NaN</td>\n",
       "      <td>July 14th, 2015</td>\n",
       "      <td>Uganda Coffee Development Authority</td>\n",
       "      <td>Coffee House, Plot 35, Jinja Road, P.O. Box 72...</td>\n",
       "      <td>Clare Rwakatogoro - 256-41-256940/233073</td>\n",
       "    </tr>\n",
       "    <tr>\n",
       "      <th>4</th>\n",
       "      <td>0</td>\n",
       "      <td>83.00</td>\n",
       "      <td>NaN</td>\n",
       "      <td>NaN</td>\n",
       "      <td>NaN</td>\n",
       "      <td>NaN</td>\n",
       "      <td>NaN</td>\n",
       "      <td>Robusta</td>\n",
       "      <td>Katuka Development Trust Ltd</td>\n",
       "      <td>Uganda</td>\n",
       "      <td>...</td>\n",
       "      <td>12 %</td>\n",
       "      <td>0 full defects</td>\n",
       "      <td>0</td>\n",
       "      <td>Green</td>\n",
       "      <td>3 full defects</td>\n",
       "      <td>NaN</td>\n",
       "      <td>June 26th, 2015</td>\n",
       "      <td>Uganda Coffee Development Authority</td>\n",
       "      <td>Coffee House, Plot 35, Jinja Road, P.O. Box 72...</td>\n",
       "      <td>Clare Rwakatogoro - 256-41-256940/233073</td>\n",
       "    </tr>\n",
       "  </tbody>\n",
       "</table>\n",
       "<p>5 rows × 51 columns</p>\n",
       "</div>"
      ],
      "text/plain": [
       "   Unnamed: 0  quality_score  view_certificate_1  view_certificate_2  \\\n",
       "0           0          83.75                 NaN                 NaN   \n",
       "1           0          83.50                 NaN                 NaN   \n",
       "2           0          83.25                 NaN                 NaN   \n",
       "3           0          83.00                 NaN                 NaN   \n",
       "4           0          83.00                 NaN                 NaN   \n",
       "\n",
       "   Cupping Protocol and Descriptors  View Green Analysis Details  \\\n",
       "0                               NaN                          NaN   \n",
       "1                               NaN                          NaN   \n",
       "2                               NaN                          NaN   \n",
       "3                               NaN                          NaN   \n",
       "4                               NaN                          NaN   \n",
       "\n",
       "   Request a Sample  Species                         Owner Country of Origin  \\\n",
       "0               NaN  Robusta  Ankole coffee producers coop            Uganda   \n",
       "1               NaN  Robusta                Nishant Gurjer             India   \n",
       "2               NaN  Robusta                 Andrew Hetzel             India   \n",
       "3               NaN  Robusta                        UGACOF            Uganda   \n",
       "4               NaN  Robusta  Katuka Development Trust Ltd            Uganda   \n",
       "\n",
       "   ... Moisture Category One Defects Quakers  Color Category Two Defects NA.3  \\\n",
       "0  ...     12 %       0 full defects       0  Green       2 full defects  NaN   \n",
       "1  ...      0 %       0 full defects       0    NaN       2 full defects  NaN   \n",
       "2  ...      0 %       0 full defects       0  Green       0 full defects  NaN   \n",
       "3  ...     12 %       0 full defects       0  Green       7 full defects  NaN   \n",
       "4  ...     12 %       0 full defects       0  Green       3 full defects  NaN   \n",
       "\n",
       "           Expiration                   Certification Body  \\\n",
       "0     June 26th, 2015  Uganda Coffee Development Authority   \n",
       "1  October 31st, 2018         Specialty Coffee Association   \n",
       "2    April 29th, 2016         Specialty Coffee Association   \n",
       "3     July 14th, 2015  Uganda Coffee Development Authority   \n",
       "4     June 26th, 2015  Uganda Coffee Development Authority   \n",
       "\n",
       "                               Certification Address  \\\n",
       "0  Coffee House, Plot 35, Jinja Road, P.O. Box 72...   \n",
       "1        117 W 4th St, Suite 300 Santa Ana, CA 92701   \n",
       "2        117 W 4th St, Suite 300 Santa Ana, CA 92701   \n",
       "3  Coffee House, Plot 35, Jinja Road, P.O. Box 72...   \n",
       "4  Coffee House, Plot 35, Jinja Road, P.O. Box 72...   \n",
       "\n",
       "                      Certification Contact  \n",
       "0  Clare Rwakatogoro - 256-41-256940/233073  \n",
       "1               Chris Buck - (562) 624-4100  \n",
       "2               Chris Buck - (562) 624-4100  \n",
       "3  Clare Rwakatogoro - 256-41-256940/233073  \n",
       "4  Clare Rwakatogoro - 256-41-256940/233073  \n",
       "\n",
       "[5 rows x 51 columns]"
      ]
     },
     "execution_count": 3,
     "metadata": {},
     "output_type": "execute_result"
    }
   ],
   "source": [
    "coffee_quality.head()"
   ]
  },
  {
   "cell_type": "code",
   "execution_count": 4,
   "metadata": {},
   "outputs": [],
   "source": [
    "Y = coffee_quality[\"quality_score\"]"
   ]
  },
  {
   "cell_type": "markdown",
   "metadata": {},
   "source": [
    "# Data cleaningin and feature engineering"
   ]
  },
  {
   "cell_type": "code",
   "execution_count": 5,
   "metadata": {},
   "outputs": [
    {
     "name": "stdout",
     "output_type": "stream",
     "text": [
      "<class 'pandas.core.frame.DataFrame'>\n",
      "RangeIndex: 28 entries, 0 to 27\n",
      "Data columns (total 44 columns):\n",
      " #   Column                 Non-Null Count  Dtype  \n",
      "---  ------                 --------------  -----  \n",
      " 0   Unnamed: 0             28 non-null     int64  \n",
      " 1   Species                28 non-null     object \n",
      " 2   Owner                  28 non-null     object \n",
      " 3   Country.of.Origin      28 non-null     object \n",
      " 4   Farm.Name              25 non-null     object \n",
      " 5   Lot.Number             6 non-null      object \n",
      " 6   Mill                   20 non-null     object \n",
      " 7   ICO.Number             17 non-null     object \n",
      " 8   Company                28 non-null     object \n",
      " 9   Altitude               25 non-null     object \n",
      " 10  Region                 26 non-null     object \n",
      " 11  Producer               26 non-null     object \n",
      " 12  Number.of.Bags         28 non-null     int64  \n",
      " 13  Bag.Weight             28 non-null     object \n",
      " 14  In.Country.Partner     28 non-null     object \n",
      " 15  Harvest.Year           28 non-null     int64  \n",
      " 16  Grading.Date           28 non-null     object \n",
      " 17  Owner.1                28 non-null     object \n",
      " 18  Variety                3 non-null      object \n",
      " 19  Processing.Method      10 non-null     object \n",
      " 20  Fragrance...Aroma      28 non-null     float64\n",
      " 21  Flavor                 28 non-null     float64\n",
      " 22  Aftertaste             28 non-null     float64\n",
      " 23  Salt...Acid            28 non-null     float64\n",
      " 24  Bitter...Sweet         28 non-null     float64\n",
      " 25  Mouthfeel              28 non-null     float64\n",
      " 26  Uniform.Cup            28 non-null     float64\n",
      " 27  Clean.Cup              28 non-null     float64\n",
      " 28  Balance                28 non-null     float64\n",
      " 29  Cupper.Points          28 non-null     float64\n",
      " 30  Total.Cup.Points       28 non-null     float64\n",
      " 31  Moisture               28 non-null     float64\n",
      " 32  Category.One.Defects   28 non-null     int64  \n",
      " 33  Quakers                28 non-null     int64  \n",
      " 34  Color                  26 non-null     object \n",
      " 35  Category.Two.Defects   28 non-null     int64  \n",
      " 36  Expiration             28 non-null     object \n",
      " 37  Certification.Body     28 non-null     object \n",
      " 38  Certification.Address  28 non-null     object \n",
      " 39  Certification.Contact  28 non-null     object \n",
      " 40  unit_of_measurement    28 non-null     object \n",
      " 41  altitude_low_meters    25 non-null     float64\n",
      " 42  altitude_high_meters   25 non-null     float64\n",
      " 43  altitude_mean_meters   25 non-null     float64\n",
      "dtypes: float64(15), int64(6), object(23)\n",
      "memory usage: 9.8+ KB\n"
     ]
    }
   ],
   "source": [
    "coffee_features.info()"
   ]
  },
  {
   "cell_type": "code",
   "execution_count": 6,
   "metadata": {},
   "outputs": [],
   "source": [
    "#for this exercise we will only deal with numeric variables\n",
    "\n",
    "X = coffee_features.select_dtypes(['number'])"
   ]
  },
  {
   "cell_type": "markdown",
   "metadata": {},
   "source": [
    "## Splitting data for testing "
   ]
  },
  {
   "cell_type": "code",
   "execution_count": 7,
   "metadata": {},
   "outputs": [],
   "source": [
    "from sklearn.model_selection import train_test_split\n",
    "\n",
    "X_train, X_test, y_train, y_test = train_test_split(X, Y, test_size=0.20, random_state=42)"
   ]
  },
  {
   "cell_type": "code",
   "execution_count": 8,
   "metadata": {},
   "outputs": [],
   "source": [
    "#dropping Quakers column and unnamed\n",
    "#changing one of the altitude to log and droping the original\n",
    "X_train[\"altitude_mean_log\"] = np.log(X_train[\"altitude_mean_meters\"])\n",
    "X_train.drop(['altitude_mean_meters'], axis=1, inplace=True)\n",
    "X_train.drop(['Quakers'], axis=1, inplace=True)\n",
    "X_train.drop(['Unnamed: 0'], axis=1, inplace=True)"
   ]
  },
  {
   "cell_type": "code",
   "execution_count": 9,
   "metadata": {},
   "outputs": [
    {
     "name": "stdout",
     "output_type": "stream",
     "text": [
      "<class 'pandas.core.frame.DataFrame'>\n",
      "Int64Index: 22 entries, 17 to 6\n",
      "Data columns (total 19 columns):\n",
      " #   Column                Non-Null Count  Dtype  \n",
      "---  ------                --------------  -----  \n",
      " 0   Number.of.Bags        22 non-null     int64  \n",
      " 1   Harvest.Year          22 non-null     int64  \n",
      " 2   Fragrance...Aroma     22 non-null     float64\n",
      " 3   Flavor                22 non-null     float64\n",
      " 4   Aftertaste            22 non-null     float64\n",
      " 5   Salt...Acid           22 non-null     float64\n",
      " 6   Bitter...Sweet        22 non-null     float64\n",
      " 7   Mouthfeel             22 non-null     float64\n",
      " 8   Uniform.Cup           22 non-null     float64\n",
      " 9   Clean.Cup             22 non-null     float64\n",
      " 10  Balance               22 non-null     float64\n",
      " 11  Cupper.Points         22 non-null     float64\n",
      " 12  Total.Cup.Points      22 non-null     float64\n",
      " 13  Moisture              22 non-null     float64\n",
      " 14  Category.One.Defects  22 non-null     int64  \n",
      " 15  Category.Two.Defects  22 non-null     int64  \n",
      " 16  altitude_low_meters   19 non-null     float64\n",
      " 17  altitude_high_meters  19 non-null     float64\n",
      " 18  altitude_mean_log     19 non-null     float64\n",
      "dtypes: float64(15), int64(4)\n",
      "memory usage: 3.4 KB\n"
     ]
    }
   ],
   "source": [
    "X_train.info()"
   ]
  },
  {
   "cell_type": "code",
   "execution_count": 10,
   "metadata": {},
   "outputs": [],
   "source": [
    "altitude_low_meters_mean = X_train[\"altitude_low_meters\"].mean()\n",
    "altitude_high_meters_mean = X_train[\"altitude_high_meters\"].mean()\n",
    "altitude_mean_log_mean = X_train[\"altitude_mean_log\"].mean()"
   ]
  },
  {
   "cell_type": "code",
   "execution_count": 11,
   "metadata": {},
   "outputs": [],
   "source": [
    "# fillna with mean.. \n",
    "X_train[\"altitude_low_meters\"] = X_train[\"altitude_low_meters\"].fillna(altitude_low_meters_mean)\n",
    "X_train[\"altitude_high_meters\"] = X_train[\"altitude_high_meters\"].fillna(altitude_high_meters_mean)\n",
    "X_train[\"altitude_mean_log\"] = X_train[\"altitude_mean_log\"].fillna(altitude_mean_log_mean)"
   ]
  },
  {
   "cell_type": "code",
   "execution_count": 12,
   "metadata": {},
   "outputs": [
    {
     "name": "stdout",
     "output_type": "stream",
     "text": [
      "altitude low meters mean is 1500.3684210526317\n",
      "altitude_high_meters_mean is 1505.6315789473683\n",
      "altitude_mean_log_mean is 7.0571530664031155\n"
     ]
    }
   ],
   "source": [
    "print(f\"altitude low meters mean is {altitude_low_meters_mean}\")\n",
    "print(f\"altitude_high_meters_mean is {altitude_high_meters_mean}\")\n",
    "print(f\"altitude_mean_log_mean is {altitude_mean_log_mean}\")"
   ]
  },
  {
   "cell_type": "markdown",
   "metadata": {},
   "source": [
    "## Trainining the model"
   ]
  },
  {
   "cell_type": "code",
   "execution_count": 13,
   "metadata": {},
   "outputs": [],
   "source": [
    "## in order to exemplify how the predict will work.. we will save the y_train\n",
    "X_test.to_csv(\"data/X_test.csv\")\n",
    "y_test.to_csv(\"data/y_test.csv\")"
   ]
  },
  {
   "cell_type": "code",
   "execution_count": 15,
   "metadata": {},
   "outputs": [],
   "source": [
    "#training the model\n",
    "from sklearn.linear_model import LinearRegression\n",
    "reg = LinearRegression().fit(X_train, y_train)"
   ]
  },
  {
   "cell_type": "code",
   "execution_count": 17,
   "metadata": {},
   "outputs": [
    {
     "name": "stdout",
     "output_type": "stream",
     "text": [
      "6.701014816713759e-28\n"
     ]
    }
   ],
   "source": [
    "from sklearn.metrics import mean_squared_error\n",
    "y_train_pred = reg.predict(X_train)\n",
    "mse = mean_squared_error(y_train, y_train_pred)\n",
    "print(mse)"
   ]
  },
  {
   "cell_type": "code",
   "execution_count": 18,
   "metadata": {},
   "outputs": [],
   "source": [
    "#dropping Quakers column and unnamed\n",
    "#changing one of the altitude to log and droping the original\n",
    "X_test[\"altitude_mean_log\"] = np.log(X_test[\"altitude_mean_meters\"])\n",
    "X_test.drop(['altitude_mean_meters'], axis=1, inplace=True)\n",
    "X_test.drop(['Quakers'], axis=1, inplace=True)\n",
    "X_test.drop(['Unnamed: 0'], axis=1, inplace=True)\n",
    "# fillna with mean.. \n",
    "X_test[\"altitude_low_meters\"] = X_test[\"altitude_low_meters\"].fillna(altitude_low_meters_mean)\n",
    "X_test[\"altitude_high_meters\"] = X_test[\"altitude_high_meters\"].fillna(altitude_high_meters_mean)\n",
    "X_test[\"altitude_mean_log\"] = X_test[\"altitude_mean_log\"].fillna(altitude_mean_log_mean)"
   ]
  },
  {
   "cell_type": "code",
   "execution_count": 19,
   "metadata": {},
   "outputs": [
    {
     "name": "stdout",
     "output_type": "stream",
     "text": [
      "2.08680004794465e-27\n"
     ]
    }
   ],
   "source": [
    "y_test_pred = reg.predict(X_test)\n",
    "mse = mean_squared_error(y_test, y_test_pred)\n",
    "print(mse)"
   ]
  }
 ],
 "metadata": {
  "kernelspec": {
   "display_name": "Python 3",
   "language": "python",
   "name": "python3"
  },
  "language_info": {
   "codemirror_mode": {
    "name": "ipython",
    "version": 3
   },
   "file_extension": ".py",
   "mimetype": "text/x-python",
   "name": "python",
   "nbconvert_exporter": "python",
   "pygments_lexer": "ipython3",
   "version": "3.11.3"
  }
 },
 "nbformat": 4,
 "nbformat_minor": 4
}
